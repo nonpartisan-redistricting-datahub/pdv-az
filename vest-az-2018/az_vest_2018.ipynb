{
 "cells": [
  {
   "cell_type": "code",
   "execution_count": 1,
   "metadata": {},
   "outputs": [],
   "source": [
    "import pandas as pd"
   ]
  },
  {
   "cell_type": "code",
   "execution_count": 3,
   "metadata": {},
   "outputs": [
    {
     "name": "stderr",
     "output_type": "stream",
     "text": [
      "/opt/anaconda3/lib/python3.8/site-packages/IPython/core/interactiveshell.py:3071: DtypeWarning: Columns (0,2,8,14) have mixed types.Specify dtype option on import or set low_memory=False.\n",
      "  has_raised = await self.run_ast_nodes(code_ast.body, cell_name,\n"
     ]
    }
   ],
   "source": [
    "medsl = pd.read_csv('./raw-from-source/precinct_2018.csv', encoding='ISO-8859-1') "
   ]
  },
  {
   "cell_type": "code",
   "execution_count": 4,
   "metadata": {},
   "outputs": [],
   "source": [
    "az_elections = medsl[medsl['state_fips'] == 4].copy()"
   ]
  },
  {
   "cell_type": "code",
   "execution_count": null,
   "metadata": {},
   "outputs": [],
   "source": [
    "with pd.option_context(\"display.max_rows\", 1000):\n",
    "    display(az_elections.groupby(['office']).sum())"
   ]
  },
  {
   "cell_type": "code",
   "execution_count": 35,
   "metadata": {},
   "outputs": [
    {
     "data": {
      "text/plain": [
       "office                                party        candidate        \n",
       "Attorney General                      democrat     January Contreras    1120726\n",
       "                                      nonpartisan  [Write-in]              1792\n",
       "                                      republican   Mark Brnovich        1201398\n",
       "Governor                              democrat     David Garcia          994341\n",
       "                                      green        Angel Torres           50962\n",
       "                                      nonpartisan  [Write-in]              1268\n",
       "                                      republican   Doug Ducey           1330863\n",
       "Secretary Of State                    democrat     Katie Hobbs          1176384\n",
       "                                      nonpartisan  [Write-in]              1243\n",
       "                                      republican   Steve Gaynor         1156132\n",
       "State Mine Inspector                  democrat     William Pierce       1090346\n",
       "                                      nonpartisan  [Write-in]              1214\n",
       "                                      republican   Joe Hart             1168798\n",
       "State Treasurer                       democrat     Mark Manoil          1052197\n",
       "                                      nonpartisan  [Write-in]              1056\n",
       "                                      republican   Kimberly Yee         1249120\n",
       "Superintendent Of Public Instruction  democrat     Kathy Hoffman        1185457\n",
       "                                      nonpartisan  [Write-in]              1373\n",
       "                                      republican   Frank Riggs          1113781\n",
       "US Senate                             democrat     Kyrsten Sinema       1191100\n",
       "                                      green        Angela Green           57442\n",
       "                                      nonpartisan  [Write-in]              1521\n",
       "                                      republican   Martha McSally       1135200\n",
       "Name: votes, dtype: int64"
      ]
     },
     "execution_count": 35,
     "metadata": {},
     "output_type": "execute_result"
    }
   ],
   "source": [
    "az_elections[az_elections.office.isin(['Attorney General',\n",
    "                                      'US Senate',\n",
    "                                      'Governor',\n",
    "                                      'Secretary Of State',\n",
    "                                      'State Treasurer',\n",
    "                                      'Superintendent Of Public Instruction',\n",
    "                                      'State Mine Inspector'])]\\\n",
    "    .groupby(['office','party','candidate']).sum()['votes']"
   ]
  },
  {
   "cell_type": "code",
   "execution_count": null,
   "metadata": {},
   "outputs": [],
   "source": []
  }
 ],
 "metadata": {
  "kernelspec": {
   "display_name": "Python 3",
   "language": "python",
   "name": "python3"
  },
  "language_info": {
   "codemirror_mode": {
    "name": "ipython",
    "version": 3
   },
   "file_extension": ".py",
   "mimetype": "text/x-python",
   "name": "python",
   "nbconvert_exporter": "python",
   "pygments_lexer": "ipython3",
   "version": "3.8.3"
  }
 },
 "nbformat": 4,
 "nbformat_minor": 4
}
